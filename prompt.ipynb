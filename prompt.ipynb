{
 "cells": [
  {
   "cell_type": "markdown",
   "metadata": {
    "id": "CcUT6Fon_qRE"
   },
   "source": [
    "### Required Assignment 5.1: Will the Customer Accept the Coupon?\n",
    "\n",
    "**Context**\n",
    "\n",
    "Imagine driving through town and a coupon is delivered to your cell phone for a restaurant near where you are driving. Would you accept that coupon and take a short detour to the restaurant? Would you accept the coupon but use it on a subsequent trip? Would you ignore the coupon entirely? What if the coupon was for a bar instead of a restaurant? What about a coffee house? Would you accept a bar coupon with a minor passenger in the car? What about if it was just you and your partner in the car? Would weather impact the rate of acceptance? What about the time of day?\n",
    "\n",
    "Obviously, proximity to the business is a factor on whether the coupon is delivered to the driver or not, but what are the factors that determine whether a driver accepts the coupon once it is delivered to them? How would you determine whether a driver is likely to accept a coupon?\n",
    "\n",
    "**Overview**\n",
    "\n",
    "The goal of this project is to use what you know about visualizations and probability distributions to distinguish between customers who accepted a driving coupon versus those that did not.\n",
    "\n",
    "**Data**\n",
    "\n",
    "This data comes to us from the UCI Machine Learning repository and was collected via a survey on Amazon Mechanical Turk. The survey describes different driving scenarios including the destination, current time, weather, passenger, etc., and then ask the person whether he will accept the coupon if he is the driver. Answers that the user will drive there ‘right away’ or ‘later before the coupon expires’ are labeled as ‘Y = 1’ and answers ‘no, I do not want the coupon’ are labeled as ‘Y = 0’.  There are five different types of coupons -- less expensive restaurants (under \\$20), coffee houses, carry out & take away, bar, and more expensive restaurants (\\$20 - $50)."
   ]
  },
  {
   "cell_type": "markdown",
   "metadata": {
    "id": "1wORvMBJ_qRF"
   },
   "source": [
    "**Deliverables**\n",
    "\n",
    "Your final product should be a brief report that highlights the differences between customers who did and did not accept the coupons.  To explore the data you will utilize your knowledge of plotting, statistical summaries, and visualization using Python. You will publish your findings in a public facing github repository as your first portfolio piece.\n",
    "\n",
    "\n",
    "\n"
   ]
  },
  {
   "cell_type": "markdown",
   "metadata": {
    "id": "pG6_Ym6q_qRG"
   },
   "source": [
    "### Data Description\n",
    "Keep in mind that these values mentioned below are average values.\n",
    "\n",
    "The attributes of this data set include:\n",
    "1. User attributes\n",
    "    -  Gender: male, female\n",
    "    -  Age: below 21, 21 to 25, 26 to 30, etc.\n",
    "    -  Marital Status: single, married partner, unmarried partner, or widowed\n",
    "    -  Number of children: 0, 1, or more than 1\n",
    "    -  Education: high school, bachelors degree, associates degree, or graduate degree\n",
    "    -  Occupation: architecture & engineering, business & financial, etc.\n",
    "    -  Annual income: less than \\\\$12500, \\\\$12500 - \\\\$24999, \\\\$25000 - \\\\$37499, etc.\n",
    "    -  Number of times that he/she goes to a bar: 0, less than 1, 1 to 3, 4 to 8 or greater than 8\n",
    "    -  Number of times that he/she buys takeaway food: 0, less than 1, 1 to 3, 4 to 8 or greater\n",
    "    than 8\n",
    "    -  Number of times that he/she goes to a coffee house: 0, less than 1, 1 to 3, 4 to 8 or\n",
    "    greater than 8\n",
    "    -  Number of times that he/she eats at a restaurant with average expense less than \\\\$20 per\n",
    "    person: 0, less than 1, 1 to 3, 4 to 8 or greater than 8\n",
    "    -  Number of times that he/she goes to a bar: 0, less than 1, 1 to 3, 4 to 8 or greater than 8\n",
    "    \n",
    "\n",
    "2. Contextual attributes\n",
    "    - Driving destination: home, work, or no urgent destination\n",
    "    - Location of user, coupon and destination: we provide a map to show the geographical\n",
    "    location of the user, destination, and the venue, and we mark the distance between each\n",
    "    two places with time of driving. The user can see whether the venue is in the same\n",
    "    direction as the destination.\n",
    "    - Weather: sunny, rainy, or snowy\n",
    "    - Temperature: 30F, 55F, or 80F\n",
    "    - Time: 10AM, 2PM, or 6PM\n",
    "    - Passenger: alone, partner, kid(s), or friend(s)\n",
    "\n",
    "\n",
    "3. Coupon attributes\n",
    "    - time before it expires: 2 hours or one day"
   ]
  },
  {
   "cell_type": "code",
   "execution_count": 116,
   "metadata": {
    "id": "dzNoP3o__qRG"
   },
   "outputs": [],
   "source": [
    "import matplotlib.pyplot as plt\n",
    "import seaborn as sns\n",
    "import pandas as pd\n",
    "import numpy as np"
   ]
  },
  {
   "cell_type": "markdown",
   "metadata": {
    "id": "Ct8pI1uE_qRG"
   },
   "source": [
    "### Problems\n",
    "\n",
    "Use the prompts below to get started with your data analysis.  \n",
    "\n",
    "1. Read in the `coupons.csv` file.\n",
    "\n",
    "\n"
   ]
  },
  {
   "cell_type": "code",
   "execution_count": 117,
   "metadata": {
    "id": "X0vbffYg_qRH"
   },
   "outputs": [],
   "source": [
    "data = pd.read_csv('data/coupons.csv')"
   ]
  },
  {
   "cell_type": "code",
   "execution_count": 118,
   "metadata": {
    "id": "TXofQ_DF_qRH",
    "outputId": "2fc96a2c-1112-4b54-f24f-dbb9bc88abfb"
   },
   "outputs": [
    {
     "data": {
      "text/html": [
       "<div>\n",
       "<style scoped>\n",
       "    .dataframe tbody tr th:only-of-type {\n",
       "        vertical-align: middle;\n",
       "    }\n",
       "\n",
       "    .dataframe tbody tr th {\n",
       "        vertical-align: top;\n",
       "    }\n",
       "\n",
       "    .dataframe thead th {\n",
       "        text-align: right;\n",
       "    }\n",
       "</style>\n",
       "<table border=\"1\" class=\"dataframe\">\n",
       "  <thead>\n",
       "    <tr style=\"text-align: right;\">\n",
       "      <th></th>\n",
       "      <th>destination</th>\n",
       "      <th>passanger</th>\n",
       "      <th>weather</th>\n",
       "      <th>temperature</th>\n",
       "      <th>time</th>\n",
       "      <th>coupon</th>\n",
       "      <th>expiration</th>\n",
       "      <th>gender</th>\n",
       "      <th>age</th>\n",
       "      <th>maritalStatus</th>\n",
       "      <th>...</th>\n",
       "      <th>CoffeeHouse</th>\n",
       "      <th>CarryAway</th>\n",
       "      <th>RestaurantLessThan20</th>\n",
       "      <th>Restaurant20To50</th>\n",
       "      <th>toCoupon_GEQ5min</th>\n",
       "      <th>toCoupon_GEQ15min</th>\n",
       "      <th>toCoupon_GEQ25min</th>\n",
       "      <th>direction_same</th>\n",
       "      <th>direction_opp</th>\n",
       "      <th>Y</th>\n",
       "    </tr>\n",
       "  </thead>\n",
       "  <tbody>\n",
       "    <tr>\n",
       "      <th>0</th>\n",
       "      <td>No Urgent Place</td>\n",
       "      <td>Alone</td>\n",
       "      <td>Sunny</td>\n",
       "      <td>55</td>\n",
       "      <td>2PM</td>\n",
       "      <td>Restaurant(&lt;20)</td>\n",
       "      <td>1d</td>\n",
       "      <td>Female</td>\n",
       "      <td>21</td>\n",
       "      <td>Unmarried partner</td>\n",
       "      <td>...</td>\n",
       "      <td>never</td>\n",
       "      <td>NaN</td>\n",
       "      <td>4~8</td>\n",
       "      <td>1~3</td>\n",
       "      <td>1</td>\n",
       "      <td>0</td>\n",
       "      <td>0</td>\n",
       "      <td>0</td>\n",
       "      <td>1</td>\n",
       "      <td>1</td>\n",
       "    </tr>\n",
       "    <tr>\n",
       "      <th>1</th>\n",
       "      <td>No Urgent Place</td>\n",
       "      <td>Friend(s)</td>\n",
       "      <td>Sunny</td>\n",
       "      <td>80</td>\n",
       "      <td>10AM</td>\n",
       "      <td>Coffee House</td>\n",
       "      <td>2h</td>\n",
       "      <td>Female</td>\n",
       "      <td>21</td>\n",
       "      <td>Unmarried partner</td>\n",
       "      <td>...</td>\n",
       "      <td>never</td>\n",
       "      <td>NaN</td>\n",
       "      <td>4~8</td>\n",
       "      <td>1~3</td>\n",
       "      <td>1</td>\n",
       "      <td>0</td>\n",
       "      <td>0</td>\n",
       "      <td>0</td>\n",
       "      <td>1</td>\n",
       "      <td>0</td>\n",
       "    </tr>\n",
       "    <tr>\n",
       "      <th>2</th>\n",
       "      <td>No Urgent Place</td>\n",
       "      <td>Friend(s)</td>\n",
       "      <td>Sunny</td>\n",
       "      <td>80</td>\n",
       "      <td>10AM</td>\n",
       "      <td>Carry out &amp; Take away</td>\n",
       "      <td>2h</td>\n",
       "      <td>Female</td>\n",
       "      <td>21</td>\n",
       "      <td>Unmarried partner</td>\n",
       "      <td>...</td>\n",
       "      <td>never</td>\n",
       "      <td>NaN</td>\n",
       "      <td>4~8</td>\n",
       "      <td>1~3</td>\n",
       "      <td>1</td>\n",
       "      <td>1</td>\n",
       "      <td>0</td>\n",
       "      <td>0</td>\n",
       "      <td>1</td>\n",
       "      <td>1</td>\n",
       "    </tr>\n",
       "    <tr>\n",
       "      <th>3</th>\n",
       "      <td>No Urgent Place</td>\n",
       "      <td>Friend(s)</td>\n",
       "      <td>Sunny</td>\n",
       "      <td>80</td>\n",
       "      <td>2PM</td>\n",
       "      <td>Coffee House</td>\n",
       "      <td>2h</td>\n",
       "      <td>Female</td>\n",
       "      <td>21</td>\n",
       "      <td>Unmarried partner</td>\n",
       "      <td>...</td>\n",
       "      <td>never</td>\n",
       "      <td>NaN</td>\n",
       "      <td>4~8</td>\n",
       "      <td>1~3</td>\n",
       "      <td>1</td>\n",
       "      <td>1</td>\n",
       "      <td>0</td>\n",
       "      <td>0</td>\n",
       "      <td>1</td>\n",
       "      <td>0</td>\n",
       "    </tr>\n",
       "    <tr>\n",
       "      <th>4</th>\n",
       "      <td>No Urgent Place</td>\n",
       "      <td>Friend(s)</td>\n",
       "      <td>Sunny</td>\n",
       "      <td>80</td>\n",
       "      <td>2PM</td>\n",
       "      <td>Coffee House</td>\n",
       "      <td>1d</td>\n",
       "      <td>Female</td>\n",
       "      <td>21</td>\n",
       "      <td>Unmarried partner</td>\n",
       "      <td>...</td>\n",
       "      <td>never</td>\n",
       "      <td>NaN</td>\n",
       "      <td>4~8</td>\n",
       "      <td>1~3</td>\n",
       "      <td>1</td>\n",
       "      <td>1</td>\n",
       "      <td>0</td>\n",
       "      <td>0</td>\n",
       "      <td>1</td>\n",
       "      <td>0</td>\n",
       "    </tr>\n",
       "    <tr>\n",
       "      <th>...</th>\n",
       "      <td>...</td>\n",
       "      <td>...</td>\n",
       "      <td>...</td>\n",
       "      <td>...</td>\n",
       "      <td>...</td>\n",
       "      <td>...</td>\n",
       "      <td>...</td>\n",
       "      <td>...</td>\n",
       "      <td>...</td>\n",
       "      <td>...</td>\n",
       "      <td>...</td>\n",
       "      <td>...</td>\n",
       "      <td>...</td>\n",
       "      <td>...</td>\n",
       "      <td>...</td>\n",
       "      <td>...</td>\n",
       "      <td>...</td>\n",
       "      <td>...</td>\n",
       "      <td>...</td>\n",
       "      <td>...</td>\n",
       "      <td>...</td>\n",
       "    </tr>\n",
       "    <tr>\n",
       "      <th>12679</th>\n",
       "      <td>Home</td>\n",
       "      <td>Partner</td>\n",
       "      <td>Rainy</td>\n",
       "      <td>55</td>\n",
       "      <td>6PM</td>\n",
       "      <td>Carry out &amp; Take away</td>\n",
       "      <td>1d</td>\n",
       "      <td>Male</td>\n",
       "      <td>26</td>\n",
       "      <td>Single</td>\n",
       "      <td>...</td>\n",
       "      <td>never</td>\n",
       "      <td>1~3</td>\n",
       "      <td>4~8</td>\n",
       "      <td>1~3</td>\n",
       "      <td>1</td>\n",
       "      <td>0</td>\n",
       "      <td>0</td>\n",
       "      <td>1</td>\n",
       "      <td>0</td>\n",
       "      <td>1</td>\n",
       "    </tr>\n",
       "    <tr>\n",
       "      <th>12680</th>\n",
       "      <td>Work</td>\n",
       "      <td>Alone</td>\n",
       "      <td>Rainy</td>\n",
       "      <td>55</td>\n",
       "      <td>7AM</td>\n",
       "      <td>Carry out &amp; Take away</td>\n",
       "      <td>1d</td>\n",
       "      <td>Male</td>\n",
       "      <td>26</td>\n",
       "      <td>Single</td>\n",
       "      <td>...</td>\n",
       "      <td>never</td>\n",
       "      <td>1~3</td>\n",
       "      <td>4~8</td>\n",
       "      <td>1~3</td>\n",
       "      <td>1</td>\n",
       "      <td>0</td>\n",
       "      <td>0</td>\n",
       "      <td>0</td>\n",
       "      <td>1</td>\n",
       "      <td>1</td>\n",
       "    </tr>\n",
       "    <tr>\n",
       "      <th>12681</th>\n",
       "      <td>Work</td>\n",
       "      <td>Alone</td>\n",
       "      <td>Snowy</td>\n",
       "      <td>30</td>\n",
       "      <td>7AM</td>\n",
       "      <td>Coffee House</td>\n",
       "      <td>1d</td>\n",
       "      <td>Male</td>\n",
       "      <td>26</td>\n",
       "      <td>Single</td>\n",
       "      <td>...</td>\n",
       "      <td>never</td>\n",
       "      <td>1~3</td>\n",
       "      <td>4~8</td>\n",
       "      <td>1~3</td>\n",
       "      <td>1</td>\n",
       "      <td>0</td>\n",
       "      <td>0</td>\n",
       "      <td>1</td>\n",
       "      <td>0</td>\n",
       "      <td>0</td>\n",
       "    </tr>\n",
       "    <tr>\n",
       "      <th>12682</th>\n",
       "      <td>Work</td>\n",
       "      <td>Alone</td>\n",
       "      <td>Snowy</td>\n",
       "      <td>30</td>\n",
       "      <td>7AM</td>\n",
       "      <td>Bar</td>\n",
       "      <td>1d</td>\n",
       "      <td>Male</td>\n",
       "      <td>26</td>\n",
       "      <td>Single</td>\n",
       "      <td>...</td>\n",
       "      <td>never</td>\n",
       "      <td>1~3</td>\n",
       "      <td>4~8</td>\n",
       "      <td>1~3</td>\n",
       "      <td>1</td>\n",
       "      <td>1</td>\n",
       "      <td>1</td>\n",
       "      <td>0</td>\n",
       "      <td>1</td>\n",
       "      <td>0</td>\n",
       "    </tr>\n",
       "    <tr>\n",
       "      <th>12683</th>\n",
       "      <td>Work</td>\n",
       "      <td>Alone</td>\n",
       "      <td>Sunny</td>\n",
       "      <td>80</td>\n",
       "      <td>7AM</td>\n",
       "      <td>Restaurant(20-50)</td>\n",
       "      <td>2h</td>\n",
       "      <td>Male</td>\n",
       "      <td>26</td>\n",
       "      <td>Single</td>\n",
       "      <td>...</td>\n",
       "      <td>never</td>\n",
       "      <td>1~3</td>\n",
       "      <td>4~8</td>\n",
       "      <td>1~3</td>\n",
       "      <td>1</td>\n",
       "      <td>0</td>\n",
       "      <td>0</td>\n",
       "      <td>1</td>\n",
       "      <td>0</td>\n",
       "      <td>0</td>\n",
       "    </tr>\n",
       "  </tbody>\n",
       "</table>\n",
       "<p>12684 rows × 26 columns</p>\n",
       "</div>"
      ],
      "text/plain": [
       "           destination  passanger weather  temperature  time  \\\n",
       "0      No Urgent Place      Alone   Sunny           55   2PM   \n",
       "1      No Urgent Place  Friend(s)   Sunny           80  10AM   \n",
       "2      No Urgent Place  Friend(s)   Sunny           80  10AM   \n",
       "3      No Urgent Place  Friend(s)   Sunny           80   2PM   \n",
       "4      No Urgent Place  Friend(s)   Sunny           80   2PM   \n",
       "...                ...        ...     ...          ...   ...   \n",
       "12679             Home    Partner   Rainy           55   6PM   \n",
       "12680             Work      Alone   Rainy           55   7AM   \n",
       "12681             Work      Alone   Snowy           30   7AM   \n",
       "12682             Work      Alone   Snowy           30   7AM   \n",
       "12683             Work      Alone   Sunny           80   7AM   \n",
       "\n",
       "                      coupon expiration  gender age      maritalStatus  ...  \\\n",
       "0            Restaurant(<20)         1d  Female  21  Unmarried partner  ...   \n",
       "1               Coffee House         2h  Female  21  Unmarried partner  ...   \n",
       "2      Carry out & Take away         2h  Female  21  Unmarried partner  ...   \n",
       "3               Coffee House         2h  Female  21  Unmarried partner  ...   \n",
       "4               Coffee House         1d  Female  21  Unmarried partner  ...   \n",
       "...                      ...        ...     ...  ..                ...  ...   \n",
       "12679  Carry out & Take away         1d    Male  26             Single  ...   \n",
       "12680  Carry out & Take away         1d    Male  26             Single  ...   \n",
       "12681           Coffee House         1d    Male  26             Single  ...   \n",
       "12682                    Bar         1d    Male  26             Single  ...   \n",
       "12683      Restaurant(20-50)         2h    Male  26             Single  ...   \n",
       "\n",
       "       CoffeeHouse CarryAway RestaurantLessThan20 Restaurant20To50  \\\n",
       "0            never       NaN                  4~8              1~3   \n",
       "1            never       NaN                  4~8              1~3   \n",
       "2            never       NaN                  4~8              1~3   \n",
       "3            never       NaN                  4~8              1~3   \n",
       "4            never       NaN                  4~8              1~3   \n",
       "...            ...       ...                  ...              ...   \n",
       "12679        never       1~3                  4~8              1~3   \n",
       "12680        never       1~3                  4~8              1~3   \n",
       "12681        never       1~3                  4~8              1~3   \n",
       "12682        never       1~3                  4~8              1~3   \n",
       "12683        never       1~3                  4~8              1~3   \n",
       "\n",
       "      toCoupon_GEQ5min toCoupon_GEQ15min toCoupon_GEQ25min direction_same  \\\n",
       "0                    1                 0                 0              0   \n",
       "1                    1                 0                 0              0   \n",
       "2                    1                 1                 0              0   \n",
       "3                    1                 1                 0              0   \n",
       "4                    1                 1                 0              0   \n",
       "...                ...               ...               ...            ...   \n",
       "12679                1                 0                 0              1   \n",
       "12680                1                 0                 0              0   \n",
       "12681                1                 0                 0              1   \n",
       "12682                1                 1                 1              0   \n",
       "12683                1                 0                 0              1   \n",
       "\n",
       "      direction_opp  Y  \n",
       "0                 1  1  \n",
       "1                 1  0  \n",
       "2                 1  1  \n",
       "3                 1  0  \n",
       "4                 1  0  \n",
       "...             ... ..  \n",
       "12679             0  1  \n",
       "12680             1  1  \n",
       "12681             0  0  \n",
       "12682             1  0  \n",
       "12683             0  0  \n",
       "\n",
       "[12684 rows x 26 columns]"
      ]
     },
     "execution_count": 118,
     "metadata": {},
     "output_type": "execute_result"
    }
   ],
   "source": [
    "data.head()\n",
    "data"
   ]
  },
  {
   "cell_type": "markdown",
   "metadata": {
    "id": "GcDs78ZH_qRH"
   },
   "source": [
    "2. Investigate the dataset for missing or problematic data."
   ]
  },
  {
   "cell_type": "code",
   "execution_count": 119,
   "metadata": {
    "id": "6CwL6oWj_qRH"
   },
   "outputs": [
    {
     "name": "stdout",
     "output_type": "stream",
     "text": [
      "destination                 0\n",
      "passanger                   0\n",
      "weather                     0\n",
      "temperature                 0\n",
      "time                        0\n",
      "coupon                      0\n",
      "expiration                  0\n",
      "gender                      0\n",
      "age                         0\n",
      "maritalStatus               0\n",
      "has_children                0\n",
      "education                   0\n",
      "occupation                  0\n",
      "income                      0\n",
      "car                     12576\n",
      "Bar                       107\n",
      "CoffeeHouse               217\n",
      "CarryAway                 151\n",
      "RestaurantLessThan20      130\n",
      "Restaurant20To50          189\n",
      "toCoupon_GEQ5min            0\n",
      "toCoupon_GEQ15min           0\n",
      "toCoupon_GEQ25min           0\n",
      "direction_same              0\n",
      "direction_opp               0\n",
      "Y                           0\n",
      "dtype: int64\n",
      "Available data count in car:  108\n",
      "Available data count in other columns with missing data:  12079\n"
     ]
    }
   ],
   "source": [
    "#Hi, my name's Raatib Tanvir, this is my submission for our first project/large assignment! Super pumped.\n",
    "#Let's make a df with only missing data. Then we can also count per column.\n",
    "missing_values_data = data.isnull()\n",
    "missing_values_count = data.isnull().sum()\n",
    "print(missing_values_count)\n",
    "#This gives us an idea. We have a large number of empty values in the car column. Let's check out the total entries in that column.\n",
    "#(This will help us determine whether that column has too many empty values to just fill, or if we can happily fill them)\n",
    "car_count = data['car'].value_counts().sum()\n",
    "print('Available data count in car: ', car_count)\n",
    "#Wow, this car column only has 108 values filled in. We'll take note of that. It isn't too valuable.\n",
    "other_missing_columns_count = data[['Bar','CoffeeHouse','CarryAway','RestaurantLessThan20','Restaurant20To50']].value_counts().sum()\n",
    "print('Available data count in other columns with missing data: ', other_missing_columns_count)\n"
   ]
  },
  {
   "cell_type": "markdown",
   "metadata": {
    "id": "bSdVSpYB_qRH"
   },
   "source": [
    "3. Decide what to do about your missing data -- drop, replace, other..."
   ]
  },
  {
   "cell_type": "code",
   "execution_count": 120,
   "metadata": {
    "id": "tyvoAC5F_qRI"
   },
   "outputs": [],
   "source": [
    "#Here's what it would look like if we decided to drop all rows of data who omit a value, with the exception of the car category.\n",
    "data_dropped_subset = data.dropna(subset=['Bar','CoffeeHouse','CarryAway','RestaurantLessThan20','Restaurant20To50'])\n",
    "# data_dropped_subset.info\n",
    "\n",
    "#The truth is, if we want to analyze by specific columns later, we may be dropping important data here. This new dataset has dropped about 500 rows.\n",
    "#Instead, we will perform dropna() based around a specific columnn later when we analyze data where that column is particularly important to our findings."
   ]
  },
  {
   "cell_type": "markdown",
   "metadata": {
    "id": "YE6oJbXd_qRI"
   },
   "source": [
    "4. What proportion of the total observations chose to accept the coupon?\n",
    "\n"
   ]
  },
  {
   "cell_type": "code",
   "execution_count": 121,
   "metadata": {
    "id": "86GGqBTv_qRI"
   },
   "outputs": [
    {
     "name": "stdout",
     "output_type": "stream",
     "text": [
      "0.5684326710816777\n",
      "In essence, about 56.8% of participants accepted the coupon!\n"
     ]
    }
   ],
   "source": [
    "#The Y column, which denotes whether a given observation accepted the coupon (Y='1') or did not (Y='0'). Note that the 'Y' column has no missing data according to our previous analysis.\n",
    "Y_values = data['Y'].count()\n",
    "Y_equals_1 = data['Y'].sum()\n",
    "# print(Y_values, Y_equals_1)\n",
    "proportion_accepted = Y_equals_1/Y_values\n",
    "print(proportion_accepted)\n",
    "print('In essence, about 56.8% of participants accepted the coupon!')"
   ]
  },
  {
   "cell_type": "markdown",
   "metadata": {
    "id": "vflz0DoE_qRI"
   },
   "source": [
    "5. Use a bar plot to visualize the `coupon` column."
   ]
  },
  {
   "cell_type": "code",
   "execution_count": 122,
   "metadata": {
    "id": "dHFh3E45_qRI"
   },
   "outputs": [
    {
     "name": "stderr",
     "output_type": "stream",
     "text": [
      "/var/folders/c3/8p70qn2s1x99513gq9z99mgw0000gn/T/ipykernel_62233/2864504552.py:6: FutureWarning: \n",
      "\n",
      "Passing `palette` without assigning `hue` is deprecated and will be removed in v0.14.0. Assign the `x` variable to `hue` and set `legend=False` for the same effect.\n",
      "\n",
      "  sns.barplot(data=data['coupon'].value_counts(),palette='Set1')\n"
     ]
    },
    {
     "data": {
      "text/plain": [
       "([0, 1, 2, 3, 4],\n",
       " [Text(0, 0, 'Coffee House'),\n",
       "  Text(1, 0, 'Restaurant(<20)'),\n",
       "  Text(2, 0, 'Carry out & Take away'),\n",
       "  Text(3, 0, 'Bar'),\n",
       "  Text(4, 0, 'Restaurant(20-50)')])"
      ]
     },
     "execution_count": 122,
     "metadata": {},
     "output_type": "execute_result"
    },
    {
     "data": {
      "image/png": "[encoded data removed]",
      "text/plain": [
       "<Figure size 640x480 with 1 Axes>"
      ]
     },
     "metadata": {},
     "output_type": "display_data"
    }
   ],
   "source": [
    "#Using matplotlib .plot(kind='bar')\n",
    "# coupon_counts = data['coupon'].value_counts()\n",
    "# coupon_counts.plot(kind='bar',xlabel = 'Coupon Type', ylabel = 'Number of Responses', title='Coupon Data')\n",
    "\n",
    "#Using seaborn sns.barplot()\n",
    "sns.barplot(data=data['coupon'].value_counts(),palette='Set1')\n",
    "plt.xlabel('Number of Responses')\n",
    "plt.ylabel('Type of Coupon')\n",
    "plt.title('Coupon Data')\n",
    "plt.xticks(rotation=45, ha='right')\n"
   ]
  },
  {
   "cell_type": "markdown",
   "metadata": {},
   "source": [
    "This gives us a great read on which coupon types are the most desired. A great visualization of the data for us to work with."
   ]
  },
  {
   "cell_type": "markdown",
   "metadata": {
    "id": "Qw4lCyx2_qRI"
   },
   "source": [
    "6. Use a histogram to visualize the temperature column."
   ]
  },
  {
   "cell_type": "code",
   "execution_count": 123,
   "metadata": {
    "id": "Yg9Anv71_qRI"
   },
   "outputs": [
    {
     "data": {
      "text/plain": [
       "Text(0.5, 1.0, 'Temperature Data')"
      ]
     },
     "execution_count": 123,
     "metadata": {},
     "output_type": "execute_result"
    },
    {
     "data": {
      "image/png": "[encoded data removed]",
      "text/plain": [
       "<Figure size 640x480 with 1 Axes>"
      ]
     },
     "metadata": {},
     "output_type": "display_data"
    }
   ],
   "source": [
    "# Using .plot(kind='hist')\n",
    "# data['temperature'].plot(kind='hist',xlabel = 'Temperature', ylabel = 'Number of Responses', title='Temperature Data', color = 'orange')\n",
    "\n",
    "\n",
    "#Using sns.histplot\n",
    "sns.histplot(data=data['temperature'],color='orange',edgecolor='black')\n",
    "plt.xlabel('Temperature')\n",
    "plt.ylabel('Number of Responses')\n",
    "plt.title('Temperature Data')\n"
   ]
  },
  {
   "cell_type": "markdown",
   "metadata": {},
   "source": [
    "We can note how many responses are in the 80F temperature category. Another important visualization to guide our efforts."
   ]
  },
  {
   "cell_type": "markdown",
   "metadata": {
    "id": "FupfgeJk_qRJ"
   },
   "source": [
    "**Investigating the Bar Coupons**\n",
    "\n",
    "Now, we will lead you through an exploration of just the bar related coupons.  \n",
    "\n",
    "1. Create a new `DataFrame` that contains just the bar coupons.\n"
   ]
  },
  {
   "cell_type": "code",
   "execution_count": 124,
   "metadata": {
    "id": "tMBlWuGq_qRJ"
   },
   "outputs": [],
   "source": [
    "bar_data = data.loc[data['coupon']=='Bar']\n",
    "# bar_data.info\n",
    "# 2017 rows"
   ]
  },
  {
   "cell_type": "markdown",
   "metadata": {
    "id": "8ue6uCqf_qRJ"
   },
   "source": [
    "2. What proportion of bar coupons were accepted?\n"
   ]
  },
  {
   "cell_type": "code",
   "execution_count": 125,
   "metadata": {
    "id": "hSdte8Mi_qRK"
   },
   "outputs": [
    {
     "name": "stdout",
     "output_type": "stream",
     "text": [
      "0.41001487357461575\n"
     ]
    }
   ],
   "source": [
    "#We use the Y column again. It denotes whether a given observation accepted the coupon (Y='1') or did not (Y='0').\n",
    "bar_Y_equals_1 = bar_data['Y'].sum()\n",
    "bar_Y_values = bar_data['Y'].count()\n",
    "bar_proportion_accepted = bar_Y_equals_1/bar_Y_values\n",
    "print(bar_proportion_accepted)"
   ]
  },
  {
   "cell_type": "markdown",
   "metadata": {},
   "source": [
    "Interestingly, on average, only about 41% of bar responses were an acceptance! This contrasts our overall data, which indicated a majority of respondants accepted the coupon"
   ]
  },
  {
   "cell_type": "markdown",
   "metadata": {
    "id": "85nA_iEi_qRK"
   },
   "source": [
    "3. Compare the acceptance rate between those who went to a bar 3 or fewer times a month to those who went more.\n"
   ]
  },
  {
   "cell_type": "code",
   "execution_count": 126,
   "metadata": {
    "id": "LBOrN-XM_qRK"
   },
   "outputs": [
    {
     "name": "stdout",
     "output_type": "stream",
     "text": [
      "More than three acceptance rate:  0.7688442211055276\n",
      "Three or less acceptance rate:  0.37073707370737075\n",
      "Proportion of more than three rate to three or less rate:  2.0738261038128325\n",
      "Those who went to a bar more than 3 times a month were about twice as likely to accept the coupon than those who went fewer times.\n"
     ]
    }
   ],
   "source": [
    "more_than_three=bar_data.loc[(bar_data['Bar']=='4~8') | (bar_data['Bar']=='gt8')]\n",
    "three_or_less=bar_data.loc[(bar_data['Bar']!='4~8') & (bar_data['Bar']!='gt8')]\n",
    "\n",
    "more_than_three_acceptance_rate = more_than_three['Y'].sum() / more_than_three['Y'].count()\n",
    "three_or_less_acceptance_rate = three_or_less['Y'].sum() / three_or_less['Y'].count()\n",
    "print('More than three acceptance rate: ',more_than_three_acceptance_rate)\n",
    "print('Three or less acceptance rate: ',three_or_less_acceptance_rate)\n",
    "print('Proportion of more than three rate to three or less rate: ',more_than_three_acceptance_rate / three_or_less_acceptance_rate)\n",
    "print('Those who went to a bar more than 3 times a month were about twice as likely to accept the coupon than those who went fewer times.')\n"
   ]
  },
  {
   "cell_type": "markdown",
   "metadata": {
    "id": "RBgcQwH4_qRK"
   },
   "source": [
    "4. Compare the acceptance rate between drivers who go to a bar more than once a month and are over the age of 25 to the all others.  Is there a difference?\n"
   ]
  },
  {
   "cell_type": "code",
   "execution_count": 127,
   "metadata": {
    "id": "bf28bbeX_qRK"
   },
   "outputs": [
    {
     "name": "stdout",
     "output_type": "stream",
     "text": [
      "More than once a month & over 25 acceptance rate:  0.6818181818181818\n",
      "All others acceptance rate:  0.33417882054533926\n",
      "Proportion of more than once & over 25 to all others:  2.0402794548904604\n",
      "Those who went to a bar more than once a month and were over 25 were twice as likely to accept the coupon than all others.\n"
     ]
    }
   ],
   "source": [
    "#Let's select away those who put \"less than once\" or \"never\" for bar visits and those whose age was in the less than 21 or 21-25 ranges.\n",
    "more_than_once_over_25 = bar_data.loc[(bar_data['Bar'] != 'less1') & (bar_data['Bar'] != 'never') & (bar_data['age'] != '21') & (bar_data['age'] != 'below21')]\n",
    "# more_than_once_over_25.info\n",
    "#There are 440 results (rows) out of the total 2017 of the bar data\n",
    "\n",
    "# Let's do a merge to find \"all others\", aka those in the bar dataframe that do not overlap with more_than_once_over_25\n",
    "# To do that, we can do a left merge on the main bar dataframe, create an indicator for which rows are only in the left dataframe, and select those rows\n",
    "all_others = bar_data.merge(more_than_once_over_25, on=more_than_once_over_25.columns.to_list(), how='left', indicator=True)\n",
    "all_others = all_others.loc[all_others._merge=='left_only',all_others.columns!='_merge']\n",
    "# all_others.info\n",
    "#1577 rows\n",
    "\n",
    "#These are our remaining 9800 rows. Now we can do the acceptance rate arithmetic.\n",
    "more_than_once_over_25_acceptance_rate = more_than_once_over_25['Y'].sum() / more_than_once_over_25['Y'].count()\n",
    "all_others_acceptance_rate = all_others['Y'].sum() / all_others['Y'].count()\n",
    "print('More than once a month & over 25 acceptance rate: ',more_than_once_over_25_acceptance_rate)\n",
    "print('All others acceptance rate: ',all_others_acceptance_rate)\n",
    "print('Proportion of more than once & over 25 to all others: ',more_than_once_over_25_acceptance_rate / all_others_acceptance_rate)\n",
    "print('Those who went to a bar more than once a month and were over 25 were twice as likely to accept the coupon than all others.')\n"
   ]
  },
  {
   "cell_type": "markdown",
   "metadata": {},
   "source": [
    "5. Use the same process to compare the acceptance rate between drivers who go to bars more than once a month and had passengers that were not a kid and had occupations other than farming, fishing, or forestry.\n"
   ]
  },
  {
   "cell_type": "code",
   "execution_count": 128,
   "metadata": {
    "id": "sENaI2Tg_qRK"
   },
   "outputs": [
    {
     "name": "stdout",
     "output_type": "stream",
     "text": [
      "Q5 acceptance rate:  0.7073170731707317\n",
      "Others acceptance rate:  0.33417882054533926\n",
      "Proportion of Q5 to all others:  2.1165825889757945\n",
      "Those who frequent bars once a month with non-kid passengers and non-farming occupations were more than twice as likely to accept the coupons than others.\n"
     ]
    }
   ],
   "source": [
    "#Let's select away bar frequencies \"less1\" and \"never\", select away passengers \"Alone\" and \"Kid(s)\", and select away occupation \"Farming Fishing & Forestry\".\n",
    "#Note the passenger column is spelled ['passanger'] in the data.\n",
    "#Let's call our new data frame 'bar_q5' for simplicity.\n",
    "bar_q5 = bar_data.loc[(bar_data['Bar'] != 'less1') & (bar_data['Bar'] != 'never') & (bar_data['passanger'] != 'Alone') & (bar_data['passanger'] != 'Kid(s)') & (bar_data['occupation'] != 'Farming Fishing & Forestry')]\n",
    "# bar_q5.info\n",
    "#205 results\n",
    "\n",
    "\n",
    "#Let's make a new dataframe called \"all_others_q5\" to find the rows that do not fit this criteria, using the same method as last question.\n",
    "all_others_q5 = bar_data.merge(bar_q5, on=bar_q5.columns.to_list(), how='left', indicator=True)\n",
    "all_others_q5 = all_others_q5.loc[all_others_q5._merge=='left_only',all_others_q5.columns!='_merge']\n",
    "# all_others_q5.info\n",
    "#This contains the remaining 1812 rows. Now we can do the arithmetic for the acceptance rates.\n",
    "\n",
    "bar_q5_acceptance_rate = bar_q5['Y'].sum() / bar_q5['Y'].count()\n",
    "all_others_q5_acceptance_rate = all_others_q5['Y'].sum() / all_others_q5['Y'].count()\n",
    "print('Q5 acceptance rate: ',bar_q5_acceptance_rate)\n",
    "print('Others acceptance rate: ',all_others_acceptance_rate)\n",
    "print('Proportion of Q5 to all others: ',bar_q5_acceptance_rate / all_others_acceptance_rate)\n",
    "print('Those who frequent bars once a month with non-kid passengers and non-farming occupations were more than twice as likely to accept the coupons than others.')\n"
   ]
  },
  {
   "cell_type": "markdown",
   "metadata": {
    "id": "n2LIUTil_qRK"
   },
   "source": [
    "6. Compare the acceptance rates between those drivers who:\n",
    "\n",
    "- go to bars more than once a month, had passengers that were not a kid, and were not widowed *OR*\n",
    "- go to bars more than once a month and are under the age of 30 *OR*\n",
    "- go to cheap restaurants more than 4 times a month and income is less than 50K.\n",
    "\n"
   ]
  },
  {
   "cell_type": "code",
   "execution_count": 129,
   "metadata": {
    "id": "aK_wEzx7_qRK"
   },
   "outputs": [
    {
     "name": "stdout",
     "output_type": "stream",
     "text": [
      "First set acceptance rate:  0.7073170731707317\n",
      "Second set acceptance rate:  0.7220630372492837\n",
      "Third set acceptance rate:  0.45161290322580644\n",
      "Proportion of first and second mean to third set:  1.5825279793935885\n",
      "Non-widows who went to bars more than once a month with non-kid passengers were similar to all individuals who went to bars more than once a month and were under 30 in terms of acceptance.\n",
      "However, those who went to cheap restaurants more than 4 times a month with an income less than 50k were about 50% less likely than the above groups to accept a coupon.\n"
     ]
    }
   ],
   "source": [
    "#Go to bars more than once a month, had passengers that were not a kid, and were not widowed:\n",
    "bar_q6_first = bar_data.loc[(bar_data['Bar'] != 'less1') & (bar_data['Bar'] != 'never') & (bar_data['passanger'] != 'Alone') & (bar_data['passanger'] != 'Kid(s)') & (bar_data['maritalStatus'] != 'Widowed')]\n",
    "# bar_q6_first.info\n",
    "#205 rows\n",
    "\n",
    "#Go to bars more than once a month, under the age of 30\n",
    "bar_q6_second = bar_data.loc[(bar_data['Bar'] != 'less1') & (bar_data['Bar'] != 'never') & ((bar_data['age'] == '21') | (bar_data['age'] == 'below21') | (bar_data['age'] == '26'))]\n",
    "# bar_q6_second.info\n",
    "#349 rows\n",
    "\n",
    "#Go to cheap restaurants more than 4 times a month and income is less than 50k\n",
    "#Let's filter out cases where cheap restaurant column is empty. There are no missing income data.\n",
    "bar_rest_data = bar_data.loc[bar_data['Restaurant20To50'].notna()]\n",
    "#In RestaurantLessThan20, we must select for '4~8' OR 'gt8', and in income we should select for 'Less than $12500', '$12500 - $24999', '$25000 - $37499', '$37500 - $49999'\n",
    "bar_q6_third = bar_rest_data.loc[((bar_data['RestaurantLessThan20'] == '4~8') | (bar_data['RestaurantLessThan20'] == 'gt8')) & ((bar_data['income'] == 'Less than $12500') | (bar_data['income'] == '$12500 - $24999') | (bar_data['income'] == '$25000 - $37499') | (bar_data['income'] == '$37500 - $49999'))]\n",
    "# bar_q6_third.info\n",
    "#410 rows\n",
    "\n",
    "\n",
    "q6_first_acceptance_rate = bar_q6_first['Y'].sum() / bar_q6_first['Y'].count()\n",
    "q6_second_acceptance_rate = bar_q6_second['Y'].sum() / bar_q6_second['Y'].count()\n",
    "q6_third_acceptance_rate = bar_q6_third['Y'].sum() / bar_q6_third['Y'].count()\n",
    "print('First set acceptance rate: ',q6_first_acceptance_rate)\n",
    "print('Second set acceptance rate: ',q6_second_acceptance_rate)\n",
    "print('Third set acceptance rate: ',q6_third_acceptance_rate)\n",
    "print('Proportion of first and second mean to third set: ', ((q6_second_acceptance_rate + q6_first_acceptance_rate)/2)/q6_third_acceptance_rate)\n",
    "print('Non-widows who went to bars more than once a month with non-kid passengers were similar to all individuals who went to bars more than once a month and were under 30 in terms of acceptance.')\n",
    "print('However, those who went to cheap restaurants more than 4 times a month with an income less than 50k were about 50% less likely than the above groups to accept a coupon.')"
   ]
  },
  {
   "cell_type": "markdown",
   "metadata": {
    "id": "v3fL3QkO_qRK"
   },
   "source": [
    "7.  Based on these observations, what do you hypothesize about drivers who accepted the bar coupons?"
   ]
  },
  {
   "cell_type": "markdown",
   "metadata": {
    "id": "Y48naDFh_qRL"
   },
   "source": [
    "Question 3 allows us to infer that individuals who go to bars very frequently are far more likely to accept a bar coupon than individuals who don't go very frequently. We may hypothesize that the more frequently and individual goes to a bar in a month, the more likely they are to accept a bar coupon.\n",
    "\n",
    "Question 4 allows us to infer that individuals who go at least once to a bar in a month and are older than 25 are much more likely to accept a bar coupon compared to those who don't fit these criteria. We may hypothesize that those who do not go to the bar and those that are not of drinking age are less likely to accept a coupon than their counterparts.\n",
    "\n",
    "Question 5 demonstrates that, in most occupations, bar-goers who are with companions that are not kids are very likely to accept a bar coupon compared to their counterparts. We may hypothesize that kids in the car dicentivize attending a bar, and that those who go to the bar at least once a month are more likely to accept a coupon when they have company in the car that can join them at the bar.\n",
    "\n",
    "Question 6 shows that partnered or single bar-goers with non-kid company are very likely to accept a coupon, as are bar-goers who are over 30 in general. However, the general population who frequents cheap restaurants a lot in a month and are in about the lower half of income brackets are unlikely to accept the bar coupon. The first group provides a similar hypothesis as did the results of question 5.\n",
    "The second group provides a hypothesis that denotes that those who go to the bar and are over 30 are likely to want to go to the bar and accept a coupon.\n",
    "The third group demonstrates that those with less disposable income who are very likely to go to restaurants as opposed to bars are not likely to visit the bar even when offered a coupon."
   ]
  },
  {
   "cell_type": "markdown",
   "metadata": {
    "id": "r4Hu1zOb_qRL"
   },
   "source": [
    "### Independent Investigation\n",
    "\n",
    "Using the bar coupon example as motivation, you are to explore one of the other coupon groups and try to determine the characteristics of passengers who accept the coupons.  "
   ]
  },
  {
   "cell_type": "markdown",
   "metadata": {
    "id": "0c71cQhu_qRL"
   },
   "source": [
    "### Coffee House\n",
    "Let's see what we can learn about individuals who responded to the Coffee House coupon."
   ]
  },
  {
   "cell_type": "code",
   "execution_count": 130,
   "metadata": {
    "id": "fTC2WGE3_qRL"
   },
   "outputs": [],
   "source": [
    "coffee = data.loc[data['coupon']=='Coffee House']\n",
    "# coffee.info\n",
    "# 3996 rows"
   ]
  },
  {
   "cell_type": "markdown",
   "metadata": {},
   "source": [
    "### Income\n",
    "\n",
    "Let's split by upper half and lower of income brackets, differentiating response rates between incomes of less than 50k vs. 50k and more."
   ]
  },
  {
   "cell_type": "code",
   "execution_count": 131,
   "metadata": {
    "id": "RrqUWn7d_qRL"
   },
   "outputs": [
    {
     "name": "stdout",
     "output_type": "stream",
     "text": [
      "Those in the lower half of the income brackets accept coffee house coupons at a rate of  0.5225140712945591\n",
      "Those in the upper half of the income brackets accept coffee house coupons at a rate of 0.47263948497854075\n",
      "As such, those in the lower income brackets accept at rate 111% of their upper bracket counterparts.\n"
     ]
    }
   ],
   "source": [
    "# #Let's split by upper half and lower of income brackets. Less than 50k vs. more than 50k\n",
    "coffee_under_50k = coffee.loc[(coffee['income'] == 'Less than $12500') | (coffee['income'] == '$12500 - $24999') | (coffee['income'] == '$25000 - $37499') | (coffee['income'] == '$37500 - $49999')]\n",
    "# coffee_under_50k.info\n",
    "# 2132 rows\n",
    "\n",
    "coffee_50k_plus = coffee.merge(coffee_under_50k, on=coffee_under_50k.columns.to_list(), how='left', indicator=True)\n",
    "coffee_50k_plus = coffee_50k_plus.loc[coffee_50k_plus._merge=='left_only',coffee_50k_plus.columns!='_merge']\n",
    "# coffee_50k_plus.info\n",
    "# 1864 rows\n",
    "\n",
    "under_50k_accept_rate = coffee_under_50k['Y'].sum()/coffee_under_50k['Y'].count()\n",
    "over_50k_accept_rate = coffee_50k_plus['Y'].sum()/coffee_50k_plus['Y'].count()\n",
    "print('Those in the lower half of the income brackets accept coffee house coupons at a rate of ',under_50k_accept_rate)\n",
    "print('Those in the upper half of the income brackets accept coffee house coupons at a rate of', over_50k_accept_rate)\n",
    "print('As such, those in the lower income brackets accept at rate', format(under_50k_accept_rate/over_50k_accept_rate, \".0%\"),'of their upper bracket counterparts.')"
   ]
  },
  {
   "cell_type": "markdown",
   "metadata": {},
   "source": [
    "### We can infer that lower income bracket users are slightly more likely to accept coffee house coupons. We may hypothesize that individuls in lower brackets are more in need of the coupons due to less disposable income.\n",
    "Further surveys may include specific questions about disposable income in order to hone in on which users are most likely to accept coupons, and why."
   ]
  },
  {
   "cell_type": "markdown",
   "metadata": {},
   "source": [
    "### Coffee House Frequency\n",
    "\n",
    "Let's find out whether frequency in visiting coffee houses in a month has an effect on whether responders will accept a coffee house coupon."
   ]
  },
  {
   "cell_type": "code",
   "execution_count": 132,
   "metadata": {
    "id": "_oykf8YP_qRL"
   },
   "outputs": [
    {
     "name": "stdout",
     "output_type": "stream",
     "text": [
      "Those who frequent coffee houses four times or more a month accepted coupons at a rate of  0.675\n",
      "Those who frequent coffee houses less than four times a month accepted coupons at a rate of  0.44961489088575096\n",
      "As such, frequent coffee-housers accept coupons at a rate 150% of their infrequent coffee-housing counterparts.\n"
     ]
    }
   ],
   "source": [
    "# #Let's split by upper half and lower of income brackets. Less than 50k vs. more than 50k\n",
    "coffee_frequent = coffee.loc[(coffee['CoffeeHouse'] == '4~8') | (coffee['CoffeeHouse'] == 'gt8')]\n",
    "# coffee_frequent.info\n",
    "# 880 rows\n",
    "\n",
    "coffee_sparse = coffee.merge(coffee_frequent, on=coffee_frequent.columns.to_list(), how='left', indicator=True)\n",
    "coffee_sparse = coffee_sparse.loc[coffee_sparse._merge=='left_only', coffee_sparse.columns!='_merge']\n",
    "# coffee_sparse.info\n",
    "# # 3116 rows\n",
    "\n",
    "coffee_frequent_accept = coffee_frequent['Y'].sum()/coffee_frequent['Y'].count()\n",
    "coffee_sparse_rate = coffee_sparse['Y'].sum()/coffee_sparse['Y'].count()\n",
    "print('Those who frequent coffee houses four times or more a month accepted coupons at a rate of ',coffee_frequent_accept)\n",
    "print('Those who frequent coffee houses less than four times a month accepted coupons at a rate of ',coffee_sparse_rate)\n",
    "print('As such, frequent coffee-housers accept coupons at a rate', format(coffee_frequent_accept/coffee_sparse_rate, \".0%\"),'of their infrequent coffee-housing counterparts.')"
   ]
  },
  {
   "cell_type": "markdown",
   "metadata": {},
   "source": [
    "### What a beautiful statistic! We can comfortably hypothesize that individuals that already frequent coffee houses in a regular manner are much more to accept coffee house coupons than those who don't go as often.\n",
    "Further surveys can take a closer look at user's expenditure at coffee houses to procure more specific information, allowing coupon providers to hone in further on likely candidates."
   ]
  },
  {
   "cell_type": "markdown",
   "metadata": {},
   "source": [
    "### Age\n",
    "Finally, let's find out whether or not age has anything to do with an individuals' likelihood to accept a coffeehouse coupon! This one feels the least predictable... the analysis could lead us anywhere! We can split under 30 vs. 30 and older."
   ]
  },
  {
   "cell_type": "code",
   "execution_count": 133,
   "metadata": {},
   "outputs": [
    {
     "name": "stdout",
     "output_type": "stream",
     "text": [
      "Those who are younger than 30 accepted coupons at a rate of  0.5342902711323764\n",
      "Those who are 30 or older accepted coupons at a rate of 0.46808510638297873\n",
      "As such, younger individuals accepted coupouns at a rate 114% of their older counterparts.\n"
     ]
    }
   ],
   "source": [
    "# #Let's split by upper half and lower of income brackets. Less than 50k vs. more than 50k\n",
    "coffee_young = coffee.loc[(coffee['age'] == 'below21') | (coffee['age'] == '21') | (coffee['age'] == '26')]\n",
    "# coffee_young.info\n",
    "# 1881 rows\n",
    "\n",
    "coffee_old = coffee.merge(coffee_young, on= coffee_young.columns.to_list(), how='left', indicator=True)\n",
    "coffee_old = coffee_old.loc[coffee_old._merge=='left_only', coffee_old.columns!='_merge']\n",
    "# coffee_old.info\n",
    "# 2115 rows\n",
    "\n",
    "coffee_young_rate = coffee_young['Y'].sum()/coffee_young['Y'].count()\n",
    "coffee_old_rate = coffee_old['Y'].sum()/coffee_old['Y'].count()\n",
    "print('Those who are younger than 30 accepted coupons at a rate of ',coffee_young_rate)\n",
    "print('Those who are 30 or older accepted coupons at a rate of',coffee_old_rate)\n",
    "print('As such, younger individuals accepted coupouns at a rate', format(coffee_young_rate/coffee_old_rate, \".0%\"),'of their older counterparts.')\n"
   ]
  },
  {
   "cell_type": "markdown",
   "metadata": {},
   "source": [
    "### Interestingly, younger individuals are generally a bit more likely to accept a coupon for a coffee house than older individuals.\n",
    "This could reflect that younger individuals are more likely to like coffee houses, or that they are more likely to accept coupons in general, perhaps due to more free time. Another survey could explore elements like free time, and be used in analysis to determine more specific methods of targeting potential coupon users."
   ]
  }
 ],
 "metadata": {
  "colab": {
   "provenance": []
  },
  "kernelspec": {
   "display_name": "base",
   "language": "python",
   "name": "python3"
  },
  "language_info": {
   "codemirror_mode": {
    "name": "ipython",
    "version": 3
   },
   "file_extension": ".py",
   "mimetype": "text/x-python",
   "name": "python",
   "nbconvert_exporter": "python",
   "pygments_lexer": "ipython3",
   "version": "3.13.5"
  }
 },
 "nbformat": 4,
 "nbformat_minor": 0
}
